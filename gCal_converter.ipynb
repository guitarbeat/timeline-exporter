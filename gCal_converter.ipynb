{
 "cells": [
  {
   "cell_type": "code",
   "execution_count": 1,
   "metadata": {},
   "outputs": [],
   "source": [
    "# Convert a .csv file to .csv file that is google calender compatible\n",
    "# import csv\n",
    "import pandas as pd\n",
    "\n",
    "# ask user for csv file name\n",
    "csv_file = input(\"Enter the name of the csv file: \")\n",
    "\n",
    "# read csv file\n",
    "df = pd.read_csv(csv_file)\n",
    "\n",
    "# timeBegin and timeEnd from YYYY-MM-DDTHH:MM:SSSZ minus 5 hours to get the correct time\n",
    "df['timeBegin'] = pd.to_datetime(df['timeBegin'])\n",
    "df['timeEnd'] = pd.to_datetime(df['timeEnd'])\n",
    "df['timeBegin'] = df['timeBegin'] - pd.Timedelta(hours=5)\n",
    "df['timeEnd'] = df['timeEnd'] - pd.Timedelta(hours=5)\n",
    "\n",
    "# Convert timeBegin to Start Date M/D/YYYY and Start Time H:MM AM/PM\n",
    "\n",
    "df['Start Date'] = df['timeBegin'].dt.strftime('%m/%d/%Y')\n",
    "df['Start Time'] = df['timeBegin'].dt.strftime('%I:%M %p')\n",
    "\n",
    "# Convert timeEnd from YYYY-MM-DDTHH:MM:SSSZ to End Date M/D/YYYY and End Time H:MM AM/PM\n",
    "df['End Date'] = df['timeEnd'].dt.strftime('%m/%d/%Y')\n",
    "df['End Time'] = df['timeEnd'].dt.strftime('%I:%M %p')\n",
    "\n",
    "# Change the column \"name\" to \"Subject\"\n",
    "df['Subject'] = df['name']\n",
    "\n",
    "# Change the column \"address\" to \"Location\"\n",
    "df['Location'] = df['address']\n",
    "\n",
    "# Change the column \"category\" to \"Description\"\n",
    "df['Description'] = df['category']\n",
    "\n",
    "# Create new column \"All Day Event\" and set it to \"False\"\n",
    "df['All Day Event'] = \"False\"\n",
    "\n",
    "# Order columns with the following order\n",
    "df = df[['Subject', 'Start Date', 'Start Time', 'End Date', 'End Time', 'Location', 'All Day Event']]\n",
    "\n",
    "# Save the new file as a .csv file\n",
    "df.to_csv('new_file.csv', index=False)\n"
   ]
  }
 ],
 "metadata": {
  "kernelspec": {
   "display_name": "Python 3 (ipykernel)",
   "language": "python",
   "name": "python3"
  },
  "language_info": {
   "codemirror_mode": {
    "name": "ipython",
    "version": 3
   },
   "file_extension": ".py",
   "mimetype": "text/x-python",
   "name": "python",
   "nbconvert_exporter": "python",
   "pygments_lexer": "ipython3",
   "version": "3.8.13"
  }
 },
 "nbformat": 4,
 "nbformat_minor": 4
}
